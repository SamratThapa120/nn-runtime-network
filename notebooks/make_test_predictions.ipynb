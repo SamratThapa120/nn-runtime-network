{
 "cells": [
  {
   "cell_type": "code",
   "execution_count": 1,
   "metadata": {},
   "outputs": [
    {
     "name": "stderr",
     "output_type": "stream",
     "text": [
      "/usr/local/lib/python3.8/dist-packages/tqdm/auto.py:22: TqdmWarning: IProgress not found. Please update jupyter and ipywidgets. See https://ipywidgets.readthedocs.io/en/stable/user_install.html\n",
      "  from .autonotebook import tqdm as notebook_tqdm\n"
     ]
    }
   ],
   "source": [
    "import torch\n",
    "import sys\n",
    "import os\n",
    "os.environ[\"CUDA_VISIBLE_DEVICES\"]=\"7\"\n",
    "import pandas as pd\n",
    "import numpy as np\n",
    "from tqdm import tqdm\n",
    "sys.path.append(\"../\")"
   ]
  },
  {
   "cell_type": "code",
   "execution_count": 2,
   "metadata": {},
   "outputs": [
    {
     "name": "stderr",
     "output_type": "stream",
     "text": [
      "/usr/local/lib/python3.8/dist-packages/scipy/__init__.py:138: UserWarning: A NumPy version >=1.16.5 and <1.23.0 is required for this version of SciPy (detected version 1.24.4)\n",
      "  warnings.warn(f\"A NumPy version >={np_minversion} and <{np_maxversion} is required for this version of \"\n"
     ]
    }
   ],
   "source": [
    "from configs.listmle_gsage_nlp import Configs"
   ]
  },
  {
   "cell_type": "code",
   "execution_count": 3,
   "metadata": {},
   "outputs": [
    {
     "name": "stdout",
     "output_type": "stream",
     "text": [
      "Valid model types: ['various_splits__nlp_only']\n",
      "length of train: 405, length of valid: 40, length of test: 34\n"
     ]
    }
   ],
   "source": [
    "CFG = Configs()"
   ]
  },
  {
   "cell_type": "code",
   "execution_count": 4,
   "metadata": {},
   "outputs": [
    {
     "name": "stdout",
     "output_type": "stream",
     "text": [
      "loading model checkpoint from epoch:  1020\n"
     ]
    },
    {
     "data": {
      "text/plain": [
       "1"
      ]
     },
     "execution_count": 4,
     "metadata": {},
     "output_type": "execute_result"
    }
   ],
   "source": [
    "CFG.load_state_dict(os.path.join(CFG.OUTPUTDIR,\"bestmodel_opa.pkl\"),map_location=\"cpu\")\n",
    "model = CFG.model\n",
    "model.cuda()\n",
    "model.eval()\n",
    "1"
   ]
  },
  {
   "cell_type": "code",
   "execution_count": 5,
   "metadata": {},
   "outputs": [
    {
     "name": "stdout",
     "output_type": "stream",
     "text": [
      "Total parameters: 1262335\n",
      "Trainable parameters: 1262335\n"
     ]
    }
   ],
   "source": [
    "def count_parameters(model):\n",
    "    total_params = sum(p.numel() for p in model.parameters())\n",
    "    trainable_params = sum(p.numel() for p in model.parameters() if p.requires_grad)\n",
    "    return total_params, trainable_params\n",
    "\n",
    "total, trainable = count_parameters(model)\n",
    "print(f\"Total parameters: {total}\")\n",
    "print(f\"Trainable parameters: {trainable}\")\n"
   ]
  },
  {
   "cell_type": "code",
   "execution_count": 6,
   "metadata": {},
   "outputs": [
    {
     "name": "stderr",
     "output_type": "stream",
     "text": [
      "100%|██████████| 34/34 [12:25<00:00, 21.93s/it]\n"
     ]
    }
   ],
   "source": [
    "USED_KEYS = [\"node_features\",\"node_config_features\",\"node_separation\",\"node_ops\",\"edges\",\"batches\"]\n",
    "pred_sequences = []\n",
    "for info in tqdm(CFG.test_dataset):\n",
    "    predictions = []\n",
    "    for batch in CFG.stream_dataloder_collate([info]):\n",
    "        with torch.no_grad():\n",
    "            out = model(**{k:batch[k].cuda() for k in USED_KEYS}).cpu()\n",
    "            predictions.append(out)\n",
    "    pred_sequences.append(torch.concat(predictions).flatten()[:len(info[\"config_runtimes\"])])"
   ]
  },
  {
   "cell_type": "code",
   "execution_count": 9,
   "metadata": {},
   "outputs": [],
   "source": [
    "df = pd.DataFrame(CFG.test_dataset.files,columns=[\"ID\"])\n",
    "df[\"ID\"] = df.ID.apply(lambda x: \"layout:\"+x.split(\"/\")[-1].split(\".\")[0].replace(\"___\",\":\").replace(\"test:\",\"\"))\n",
    "df[\"TopConfigs\"] = [\";\".join([str(x) for x in ps.numpy().argsort().tolist()]) for ps in pred_sequences]"
   ]
  },
  {
   "cell_type": "code",
   "execution_count": 10,
   "metadata": {},
   "outputs": [],
   "source": [
    "df.to_csv(os.path.join(CFG.OUTPUTDIR,\"submission.csv\"),index=False)"
   ]
  },
  {
   "attachments": {},
   "cell_type": "markdown",
   "metadata": {},
   "source": [
    "# Combine multiple files and save"
   ]
  },
  {
   "cell_type": "code",
   "execution_count": 11,
   "metadata": {},
   "outputs": [],
   "source": [
    "import pandas as pd"
   ]
  },
  {
   "cell_type": "code",
   "execution_count": 12,
   "metadata": {},
   "outputs": [],
   "source": [
    "files = [\n",
    "    \"/app/nn-runtime-network/workdir/tile_model/results_1697250122338.csv\",\n",
    "    \"/app/nn-runtime-network/workdir/listmle_graphsage_xla/submission.csv\",\n",
    "    \"/app/nn-runtime-network/workdir/listmle_graphsage_nlp/submission.csv\"\n",
    "]"
   ]
  },
  {
   "cell_type": "code",
   "execution_count": 13,
   "metadata": {},
   "outputs": [],
   "source": [
    "tdf = pd.concat([pd.read_csv(x) for x in files])\n",
    "tdf.to_csv(os.path.join(\"./submission\",\"submission.csv\"),index=False)"
   ]
  },
  {
   "cell_type": "code",
   "execution_count": null,
   "metadata": {},
   "outputs": [],
   "source": []
  }
 ],
 "metadata": {
  "kernelspec": {
   "display_name": "Python 3",
   "language": "python",
   "name": "python3"
  },
  "language_info": {
   "codemirror_mode": {
    "name": "ipython",
    "version": 3
   },
   "file_extension": ".py",
   "mimetype": "text/x-python",
   "name": "python",
   "nbconvert_exporter": "python",
   "pygments_lexer": "ipython3",
   "version": "3.8.10"
  },
  "orig_nbformat": 4
 },
 "nbformat": 4,
 "nbformat_minor": 2
}
