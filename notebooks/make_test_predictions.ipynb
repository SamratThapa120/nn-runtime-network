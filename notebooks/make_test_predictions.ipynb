{
 "cells": [
  {
   "cell_type": "code",
   "execution_count": 1,
   "metadata": {},
   "outputs": [
    {
     "name": "stderr",
     "output_type": "stream",
     "text": [
      "/usr/local/lib/python3.8/dist-packages/tqdm/auto.py:22: TqdmWarning: IProgress not found. Please update jupyter and ipywidgets. See https://ipywidgets.readthedocs.io/en/stable/user_install.html\n",
      "  from .autonotebook import tqdm as notebook_tqdm\n"
     ]
    }
   ],
   "source": [
    "import torch\n",
    "import sys\n",
    "import os\n",
    "os.environ[\"CUDA_VISIBLE_DEVICES\"]=\"5\"\n",
    "import pandas as pd\n",
    "import numpy as np\n",
    "from tqdm import tqdm\n",
    "sys.path.append(\"../\")"
   ]
  },
  {
   "cell_type": "code",
   "execution_count": 2,
   "metadata": {},
   "outputs": [],
   "source": [
    "from configs.listmle_gsage_xla_fused import Configs"
   ]
  },
  {
   "cell_type": "code",
   "execution_count": 3,
   "metadata": {},
   "outputs": [
    {
     "name": "stdout",
     "output_type": "stream",
     "text": [
      "length of train: 66, length of valid: 14, length of test: 16\n"
     ]
    }
   ],
   "source": [
    "CFG = Configs()"
   ]
  },
  {
   "cell_type": "code",
   "execution_count": 4,
   "metadata": {},
   "outputs": [
    {
     "name": "stdout",
     "output_type": "stream",
     "text": [
      "loading model checkpoint from epoch:  5247\n"
     ]
    },
    {
     "data": {
      "text/plain": [
       "1"
      ]
     },
     "execution_count": 4,
     "metadata": {},
     "output_type": "execute_result"
    }
   ],
   "source": [
    "CFG.load_state_dict(os.path.join(CFG.OUTPUTDIR,\"bestmodel_opa.pkl\"),map_location=\"cpu\")\n",
    "model = CFG.model\n",
    "model.cuda()\n",
    "model.eval()\n",
    "1"
   ]
  },
  {
   "cell_type": "code",
   "execution_count": 5,
   "metadata": {},
   "outputs": [
    {
     "name": "stdout",
     "output_type": "stream",
     "text": [
      "Total parameters: 1787135\n",
      "Trainable parameters: 1787135\n"
     ]
    }
   ],
   "source": [
    "def count_parameters(model):\n",
    "    total_params = sum(p.numel() for p in model.parameters())\n",
    "    trainable_params = sum(p.numel() for p in model.parameters() if p.requires_grad)\n",
    "    return total_params, trainable_params\n",
    "\n",
    "total, trainable = count_parameters(model)\n",
    "print(f\"Total parameters: {total}\")\n",
    "print(f\"Trainable parameters: {trainable}\")\n"
   ]
  },
  {
   "cell_type": "code",
   "execution_count": 6,
   "metadata": {},
   "outputs": [],
   "source": [
    "# CFG.test_dataset.files = CFG.test_dataset.files[:8]"
   ]
  },
  {
   "cell_type": "code",
   "execution_count": 7,
   "metadata": {},
   "outputs": [
    {
     "name": "stderr",
     "output_type": "stream",
     "text": [
      "100%|██████████| 16/16 [03:51<00:00, 14.50s/it]\n"
     ]
    }
   ],
   "source": [
    "USED_KEYS = [\"node_features\",\"node_config_features\",\"node_separation\",\"node_ops\",\"edges\",\"batches\"]\n",
    "pred_sequences = []\n",
    "for info in tqdm(CFG.test_dataset):\n",
    "    predictions = []\n",
    "    for batch in CFG.stream_dataloder_collate([info]):\n",
    "        with torch.no_grad():\n",
    "            out = model(**{k:batch[k].cuda() for k in USED_KEYS}).cpu()\n",
    "            predictions.append(out)\n",
    "    pred_sequences.append(torch.concat(predictions).flatten()[:len(info[\"config_runtimes\"])])"
   ]
  },
  {
   "cell_type": "code",
   "execution_count": 10,
   "metadata": {},
   "outputs": [],
   "source": [
    "df = pd.DataFrame(CFG.test_dataset.files,columns=[\"ID\"])\n",
    "if CFG.test_dataset.is_tile:\n",
    "    df[\"ID\"] = df.ID.apply(lambda x: x.split(\"/\")[-1].split(\".\")[0].replace(\"___\",\":\").replace(\"test:\",\"\"))\n",
    "    df[\"TopConfigs\"] = [\";\".join([str(x) for x in ps.numpy().argsort().tolist()[:10]]) for ps in pred_sequences]\n",
    "else:\n",
    "    df[\"ID\"] = df.ID.apply(lambda x: \"layout:\"+x.split(\"/\")[-1].split(\".\")[0].replace(\"___\",\":\").replace(\"test:\",\"\"))\n",
    "    df[\"TopConfigs\"] = [\";\".join([str(x) for x in ps.numpy().argsort().tolist()]) for ps in pred_sequences]"
   ]
  },
  {
   "cell_type": "code",
   "execution_count": 11,
   "metadata": {},
   "outputs": [],
   "source": [
    "df.to_csv(os.path.join(CFG.OUTPUTDIR,\"submission.csv\"),index=False)"
   ]
  },
  {
   "attachments": {},
   "cell_type": "markdown",
   "metadata": {},
   "source": [
    "# Combine multiple files and save"
   ]
  },
  {
   "cell_type": "code",
   "execution_count": 12,
   "metadata": {},
   "outputs": [],
   "source": [
    "import pandas as pd\n",
    "import os"
   ]
  },
  {
   "cell_type": "code",
   "execution_count": 13,
   "metadata": {},
   "outputs": [],
   "source": [
    "files = [\n",
    "    \"/app/nn-runtime-network/workdir/listmle_graphsage_tilemodel_updated/submission.csv\",\n",
    "    \"/app/nn-runtime-network/workdir/listmle_graphsage_fused_xla_pairnorm/submission.csv\",\n",
    "    '../workdir/listmle_graphsage_nlp_fused_pairnorm/submission.csv'\n",
    "]\n",
    "make_zero = [\n",
    "    False,False,False\n",
    "]\n",
    "# make_zero = [\n",
    "#     True,True,True,True,True\n",
    "# ]"
   ]
  },
  {
   "cell_type": "code",
   "execution_count": 14,
   "metadata": {},
   "outputs": [],
   "source": [
    "pdfs =[]\n",
    "for x,mask in zip(files,make_zero):\n",
    "    tdf = pd.read_csv(x)\n",
    "    if mask:\n",
    "        tdf[\"TopConfigs\"] = \"0;1\"\n",
    "    pdfs.append(tdf)"
   ]
  },
  {
   "cell_type": "code",
   "execution_count": 15,
   "metadata": {},
   "outputs": [],
   "source": [
    "tdf = pd.concat(pdfs)\n",
    "tdf.to_csv(os.path.join(\"./submission\",\"submission_fused_xla_fused_nlp_1115.csv\"),index=False)"
   ]
  },
  {
   "cell_type": "code",
   "execution_count": 16,
   "metadata": {},
   "outputs": [
    {
     "data": {
      "text/html": [
       "<div>\n",
       "<style scoped>\n",
       "    .dataframe tbody tr th:only-of-type {\n",
       "        vertical-align: middle;\n",
       "    }\n",
       "\n",
       "    .dataframe tbody tr th {\n",
       "        vertical-align: top;\n",
       "    }\n",
       "\n",
       "    .dataframe thead th {\n",
       "        text-align: right;\n",
       "    }\n",
       "</style>\n",
       "<table border=\"1\" class=\"dataframe\">\n",
       "  <thead>\n",
       "    <tr style=\"text-align: right;\">\n",
       "      <th></th>\n",
       "      <th>ID</th>\n",
       "      <th>TopConfigs</th>\n",
       "    </tr>\n",
       "  </thead>\n",
       "  <tbody>\n",
       "    <tr>\n",
       "      <th>0</th>\n",
       "      <td>tile:xla:0023795810403f8b0b244d88c901322f</td>\n",
       "      <td>1538;24;3720;4813;3616;555;3878;464;2536;1638</td>\n",
       "    </tr>\n",
       "    <tr>\n",
       "      <th>1</th>\n",
       "      <td>tile:xla:005c91ca7a50fffc663678fd44316f04</td>\n",
       "      <td>544;498;288;588;376;208;623;368;502;21</td>\n",
       "    </tr>\n",
       "    <tr>\n",
       "      <th>2</th>\n",
       "      <td>tile:xla:0070642211d5a98a16b94f4d7df229fe</td>\n",
       "      <td>618;518;763;741;292;188;189;805;26;135</td>\n",
       "    </tr>\n",
       "    <tr>\n",
       "      <th>3</th>\n",
       "      <td>tile:xla:008191e0c67a6e7a62cde1a3e1d66795</td>\n",
       "      <td>817;221;1171;195;176;292;1099;1077;726;792</td>\n",
       "    </tr>\n",
       "    <tr>\n",
       "      <th>4</th>\n",
       "      <td>tile:xla:008730b43f100be7c2800d7cb89578a4</td>\n",
       "      <td>241;206;473;336;729;281;668;766;316;280</td>\n",
       "    </tr>\n",
       "    <tr>\n",
       "      <th>...</th>\n",
       "      <td>...</td>\n",
       "      <td>...</td>\n",
       "    </tr>\n",
       "    <tr>\n",
       "      <th>29</th>\n",
       "      <td>layout:nlp:random:71b79ca6db513e7979c3702c5951...</td>\n",
       "      <td>998;996;993;994;992;997;999;995;418;96;280;506...</td>\n",
       "    </tr>\n",
       "    <tr>\n",
       "      <th>30</th>\n",
       "      <td>layout:nlp:random:7f6284ebe027b1e9a3850fc70385...</td>\n",
       "      <td>992;995;996;999;994;997;998;993;499;41;179;102...</td>\n",
       "    </tr>\n",
       "    <tr>\n",
       "      <th>31</th>\n",
       "      <td>layout:nlp:random:b2fdde3b72980907578648774101...</td>\n",
       "      <td>996;998;993;994;997;995;992;999;103;413;379;10...</td>\n",
       "    </tr>\n",
       "    <tr>\n",
       "      <th>32</th>\n",
       "      <td>layout:nlp:random:d15316c12eefdef1ba549eb43379...</td>\n",
       "      <td>994;997;998;999;992;995;993;996;140;511;717;13...</td>\n",
       "    </tr>\n",
       "    <tr>\n",
       "      <th>33</th>\n",
       "      <td>layout:nlp:random:f6c146fc5cf10be4f3accbaca989...</td>\n",
       "      <td>994;997;999;998;993;992;996;995;749;158;352;72...</td>\n",
       "    </tr>\n",
       "  </tbody>\n",
       "</table>\n",
       "<p>894 rows × 2 columns</p>\n",
       "</div>"
      ],
      "text/plain": [
       "                                                   ID  \\\n",
       "0           tile:xla:0023795810403f8b0b244d88c901322f   \n",
       "1           tile:xla:005c91ca7a50fffc663678fd44316f04   \n",
       "2           tile:xla:0070642211d5a98a16b94f4d7df229fe   \n",
       "3           tile:xla:008191e0c67a6e7a62cde1a3e1d66795   \n",
       "4           tile:xla:008730b43f100be7c2800d7cb89578a4   \n",
       "..                                                ...   \n",
       "29  layout:nlp:random:71b79ca6db513e7979c3702c5951...   \n",
       "30  layout:nlp:random:7f6284ebe027b1e9a3850fc70385...   \n",
       "31  layout:nlp:random:b2fdde3b72980907578648774101...   \n",
       "32  layout:nlp:random:d15316c12eefdef1ba549eb43379...   \n",
       "33  layout:nlp:random:f6c146fc5cf10be4f3accbaca989...   \n",
       "\n",
       "                                           TopConfigs  \n",
       "0       1538;24;3720;4813;3616;555;3878;464;2536;1638  \n",
       "1              544;498;288;588;376;208;623;368;502;21  \n",
       "2              618;518;763;741;292;188;189;805;26;135  \n",
       "3          817;221;1171;195;176;292;1099;1077;726;792  \n",
       "4             241;206;473;336;729;281;668;766;316;280  \n",
       "..                                                ...  \n",
       "29  998;996;993;994;992;997;999;995;418;96;280;506...  \n",
       "30  992;995;996;999;994;997;998;993;499;41;179;102...  \n",
       "31  996;998;993;994;997;995;992;999;103;413;379;10...  \n",
       "32  994;997;998;999;992;995;993;996;140;511;717;13...  \n",
       "33  994;997;999;998;993;992;996;995;749;158;352;72...  \n",
       "\n",
       "[894 rows x 2 columns]"
      ]
     },
     "execution_count": 16,
     "metadata": {},
     "output_type": "execute_result"
    }
   ],
   "source": [
    "tdf"
   ]
  },
  {
   "cell_type": "code",
   "execution_count": null,
   "metadata": {},
   "outputs": [],
   "source": []
  }
 ],
 "metadata": {
  "kernelspec": {
   "display_name": "Python 3",
   "language": "python",
   "name": "python3"
  },
  "language_info": {
   "codemirror_mode": {
    "name": "ipython",
    "version": 3
   },
   "file_extension": ".py",
   "mimetype": "text/x-python",
   "name": "python",
   "nbconvert_exporter": "python",
   "pygments_lexer": "ipython3",
   "version": "3.8.10"
  },
  "orig_nbformat": 4
 },
 "nbformat": 4,
 "nbformat_minor": 2
}
