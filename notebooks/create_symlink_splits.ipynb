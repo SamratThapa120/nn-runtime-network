{
 "cells": [
  {
   "cell_type": "code",
   "execution_count": 1,
   "metadata": {},
   "outputs": [],
   "source": [
    "import pandas as pd\n",
    "import numpy as np\n",
    "import matplotlib.pyplot as plt\n",
    "import plotly.express as px\n",
    "import os\n",
    "from tqdm import tqdm\n",
    "import glob"
   ]
  },
  {
   "cell_type": "code",
   "execution_count": 2,
   "metadata": {},
   "outputs": [
    {
     "data": {
      "text/html": [
       "<div>\n",
       "<style scoped>\n",
       "    .dataframe tbody tr th:only-of-type {\n",
       "        vertical-align: middle;\n",
       "    }\n",
       "\n",
       "    .dataframe tbody tr th {\n",
       "        vertical-align: top;\n",
       "    }\n",
       "\n",
       "    .dataframe thead th {\n",
       "        text-align: right;\n",
       "    }\n",
       "</style>\n",
       "<table border=\"1\" class=\"dataframe\">\n",
       "  <thead>\n",
       "    <tr style=\"text-align: right;\">\n",
       "      <th></th>\n",
       "      <th>path</th>\n",
       "    </tr>\n",
       "  </thead>\n",
       "  <tbody>\n",
       "    <tr>\n",
       "      <th>0</th>\n",
       "      <td>/app/dataset/npz_all/npz/layout/nlp/default/te...</td>\n",
       "    </tr>\n",
       "    <tr>\n",
       "      <th>1</th>\n",
       "      <td>/app/dataset/npz_all/npz/layout/nlp/default/te...</td>\n",
       "    </tr>\n",
       "    <tr>\n",
       "      <th>2</th>\n",
       "      <td>/app/dataset/npz_all/npz/layout/nlp/default/te...</td>\n",
       "    </tr>\n",
       "    <tr>\n",
       "      <th>3</th>\n",
       "      <td>/app/dataset/npz_all/npz/layout/nlp/default/te...</td>\n",
       "    </tr>\n",
       "    <tr>\n",
       "      <th>4</th>\n",
       "      <td>/app/dataset/npz_all/npz/layout/nlp/default/te...</td>\n",
       "    </tr>\n",
       "    <tr>\n",
       "      <th>...</th>\n",
       "      <td>...</td>\n",
       "    </tr>\n",
       "    <tr>\n",
       "      <th>7863</th>\n",
       "      <td>/app/dataset/npz_all/npz/tile/xla/valid/unet_3...</td>\n",
       "    </tr>\n",
       "    <tr>\n",
       "      <th>7864</th>\n",
       "      <td>/app/dataset/npz_all/npz/tile/xla/valid/unet_3...</td>\n",
       "    </tr>\n",
       "    <tr>\n",
       "      <th>7865</th>\n",
       "      <td>/app/dataset/npz_all/npz/tile/xla/valid/unet_3...</td>\n",
       "    </tr>\n",
       "    <tr>\n",
       "      <th>7866</th>\n",
       "      <td>/app/dataset/npz_all/npz/tile/xla/valid/unet_3...</td>\n",
       "    </tr>\n",
       "    <tr>\n",
       "      <th>7867</th>\n",
       "      <td>/app/dataset/npz_all/npz/tile/xla/valid/unet_3...</td>\n",
       "    </tr>\n",
       "  </tbody>\n",
       "</table>\n",
       "<p>7868 rows × 1 columns</p>\n",
       "</div>"
      ],
      "text/plain": [
       "                                                   path\n",
       "0     /app/dataset/npz_all/npz/layout/nlp/default/te...\n",
       "1     /app/dataset/npz_all/npz/layout/nlp/default/te...\n",
       "2     /app/dataset/npz_all/npz/layout/nlp/default/te...\n",
       "3     /app/dataset/npz_all/npz/layout/nlp/default/te...\n",
       "4     /app/dataset/npz_all/npz/layout/nlp/default/te...\n",
       "...                                                 ...\n",
       "7863  /app/dataset/npz_all/npz/tile/xla/valid/unet_3...\n",
       "7864  /app/dataset/npz_all/npz/tile/xla/valid/unet_3...\n",
       "7865  /app/dataset/npz_all/npz/tile/xla/valid/unet_3...\n",
       "7866  /app/dataset/npz_all/npz/tile/xla/valid/unet_3...\n",
       "7867  /app/dataset/npz_all/npz/tile/xla/valid/unet_3...\n",
       "\n",
       "[7868 rows x 1 columns]"
      ]
     },
     "execution_count": 2,
     "metadata": {},
     "output_type": "execute_result"
    }
   ],
   "source": [
    "import os\n",
    "\n",
    "def get_npy_files(root_path):\n",
    "    npy_files = []\n",
    "\n",
    "    for dirpath, dirnames, filenames in os.walk(root_path):\n",
    "        for filename in filenames:\n",
    "            if filename.endswith('.npz'):\n",
    "                npy_files.append(os.path.join(dirpath, filename))\n",
    "\n",
    "    return npy_files\n",
    "ROOT = \"/app/dataset/npz_all/npz\"\n",
    "all_npy_files = get_npy_files(ROOT)\n",
    "df = pd.DataFrame(all_npy_files)\n",
    "df.columns = [\"path\"]\n",
    "df"
   ]
  },
  {
   "cell_type": "code",
   "execution_count": 3,
   "metadata": {},
   "outputs": [],
   "source": [
    "def find_split(x):\n",
    "    if \"train\" in x:\n",
    "        return \"train\"\n",
    "    elif \"valid\" in x:\n",
    "        return \"valid\"\n",
    "    elif \"test\" in x:\n",
    "        return \"test\"\n",
    "    return None\n",
    "def find_configtype(x):\n",
    "    if \"default\" in x:\n",
    "        return \"default\"\n",
    "    elif \"random\" in x:\n",
    "        return \"random\"\n",
    "    return \"istile\"\n",
    "def find_modeltype(x):\n",
    "    if \"nlp\" in x:\n",
    "        return \"nlp\"\n",
    "    elif \"xla\" in x:\n",
    "        return \"xla\"\n",
    "    return None\n",
    "def find_grapthtype(x):\n",
    "    if \"layout\" in x:\n",
    "        return \"layout\"\n",
    "    elif \"tile\" in x:\n",
    "        return \"tile\"\n",
    "    return None\n",
    "df[\"split\"] = df.path.apply(lambda x : find_split(x))\n",
    "df[\"config_type\"] = df.path.apply(lambda x : find_configtype(x))\n",
    "df[\"modeltype\"] = df.path.apply(lambda x : find_modeltype(x))\n",
    "df[\"graphtype\"] = df.path.apply(lambda x : find_grapthtype(x))\n"
   ]
  },
  {
   "cell_type": "code",
   "execution_count": 4,
   "metadata": {},
   "outputs": [],
   "source": [
    "# num_edges = []\n",
    "# num_nodes = []\n",
    "# num_configs = []\n",
    "# layout_df = df[df.graphtype==\"layout\"].reset_index(drop=True)\n",
    "# for d in tqdm(layout_df.path):\n",
    "#     data = dict(np.load(d))\n",
    "#     num_edges.append(len(data[\"edge_index\"]))\n",
    "#     num_nodes.append(len(data[\"node_feat\"]))\n",
    "#     num_configs.append(len(data[\"config_runtime\"]))\n",
    "# layout_df[\"num_edges\"] = num_edges\n",
    "# layout_df[\"num_nodes\"] = num_nodes\n",
    "# layout_df[\"num_configs\"] = num_configs\n",
    "# layout_df.to_csv(\"/app/nn-runtime-network/workdir/csvs/layout_info.csv\",index=False)"
   ]
  },
  {
   "cell_type": "code",
   "execution_count": 5,
   "metadata": {},
   "outputs": [
    {
     "name": "stdout",
     "output_type": "stream",
     "text": [
      "Symlinks to 50 files created in the \"/app/dataset/various_splits/all_layout/test\" folder.\n",
      "Symlinks to 565 files created in the \"/app/dataset/various_splits/all_layout/train\" folder.\n",
      "Symlinks to 24 files created in the \"/app/dataset/various_splits/all_layout/valid\" folder.\n"
     ]
    }
   ],
   "source": [
    "import os\n",
    "# df = layout_df\n",
    "for spl in df.split.unique():\n",
    "    \n",
    "    # Replace these with your list of file paths\n",
    "    if spl==\"train\" and True:\n",
    "        file_paths = df[(df.split==spl)&(df.graphtype==\"layout\")].path.tolist()\n",
    "    else:\n",
    "        file_paths = df[(df.split==spl)&(df.graphtype==\"layout\")].path.tolist()\n",
    "\n",
    "    folder_path = f\"/app/dataset/various_splits/all_layout/{spl}\"\n",
    "    os.makedirs(folder_path, exist_ok=True)\n",
    "\n",
    "    # Create symbolic links in the folder\n",
    "    for file_path in file_paths:\n",
    "        # Extract the file name from the file path\n",
    "        file_name = \"___\".join(file_path.split(\"/\")[-4:])\n",
    "        \n",
    "        # Create a symlink in the 'train' folder pointing to the original file\n",
    "        symlink_path = os.path.join(folder_path, file_name)\n",
    "        \n",
    "        # Create the symlink\n",
    "        os.symlink(file_path, symlink_path)\n",
    "\n",
    "    print(f'Symlinks to {len(file_paths)} files created in the \"{folder_path}\" folder.')\n"
   ]
  },
  {
   "attachments": {},
   "cell_type": "markdown",
   "metadata": {},
   "source": [
    "# All tiles"
   ]
  },
  {
   "cell_type": "code",
   "execution_count": 5,
   "metadata": {},
   "outputs": [
    {
     "name": "stdout",
     "output_type": "stream",
     "text": [
      "Symlinks to 844 files created in the \"/app/dataset/various_splits/all_tile/test\" folder.\n",
      "Symlinks to 6089 files created in the \"/app/dataset/various_splits/all_tile/train\" folder.\n",
      "Symlinks to 296 files created in the \"/app/dataset/various_splits/all_tile/valid\" folder.\n"
     ]
    }
   ],
   "source": [
    "import os\n",
    "# df = layout_df\n",
    "for spl in df.split.unique():\n",
    "    \n",
    "    # Replace these with your list of file paths\n",
    "    if spl==\"train\" and True:\n",
    "        file_paths = df[(df.split==spl)&(df.graphtype==\"tile\")].path.tolist()\n",
    "    else:\n",
    "        file_paths = df[(df.split==spl)&(df.graphtype==\"tile\")].path.tolist()\n",
    "\n",
    "    folder_path = f\"/app/dataset/various_splits/all_tile/{spl}\"\n",
    "    os.makedirs(folder_path, exist_ok=True)\n",
    "\n",
    "    # Create symbolic links in the folder\n",
    "    for file_path in file_paths:\n",
    "        # Extract the file name from the file path\n",
    "        file_name = \"___\".join(file_path.split(\"/\")[-4:])\n",
    "        \n",
    "        # Create a symlink in the 'train' folder pointing to the original file\n",
    "        symlink_path = os.path.join(folder_path, file_name)\n",
    "        \n",
    "        # Create the symlink\n",
    "        os.symlink(file_path, symlink_path)\n",
    "\n",
    "    print(f'Symlinks to {len(file_paths)} files created in the \"{folder_path}\" folder.')\n"
   ]
  }
 ],
 "metadata": {
  "kernelspec": {
   "display_name": "Python 3",
   "language": "python",
   "name": "python3"
  },
  "language_info": {
   "codemirror_mode": {
    "name": "ipython",
    "version": 3
   },
   "file_extension": ".py",
   "mimetype": "text/x-python",
   "name": "python",
   "nbconvert_exporter": "python",
   "pygments_lexer": "ipython3",
   "version": "3.8.10"
  },
  "orig_nbformat": 4
 },
 "nbformat": 4,
 "nbformat_minor": 2
}
