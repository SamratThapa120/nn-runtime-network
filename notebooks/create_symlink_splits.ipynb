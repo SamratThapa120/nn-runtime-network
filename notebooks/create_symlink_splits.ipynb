{
 "cells": [
  {
   "cell_type": "code",
   "execution_count": 1,
   "metadata": {},
   "outputs": [],
   "source": [
    "import pandas as pd\n",
    "import numpy as np\n",
    "import matplotlib.pyplot as plt\n",
    "import plotly.express as px\n",
    "import os\n",
    "from tqdm import tqdm\n",
    "import glob"
   ]
  },
  {
   "cell_type": "code",
   "execution_count": 2,
   "metadata": {},
   "outputs": [
    {
     "name": "stdout",
     "output_type": "stream",
     "text": [
      "7868\n",
      "7868\n"
     ]
    }
   ],
   "source": [
    "import glob\n",
    "import os\n",
    "import pandas as pd\n",
    "\n",
    "def get_npy_files(root_path):\n",
    "    # Use a glob pattern to match all .npz files in the directory and subdirectories\n",
    "    pattern = os.path.join(root_path, '**', '*.npz')\n",
    "    npy_files = glob.glob(pattern, recursive=True)\n",
    "    return npy_files\n",
    "\n",
    "all_npy_files = get_npy_files(\"/app/dataset/npz_all/npz/layout\")+get_npy_files(\"/app/dataset/npz_all/npz/tile/xla\")\n",
    "print(len(all_npy_files))\n",
    "# Create a DataFrame from the list of npy files\n",
    "df = pd.DataFrame(all_npy_files, columns=[\"path\"])\n",
    "print(len(df))"
   ]
  },
  {
   "cell_type": "code",
   "execution_count": 3,
   "metadata": {},
   "outputs": [],
   "source": [
    "def find_split(x):\n",
    "    if \"/train\" in x:\n",
    "        return \"train\"\n",
    "    elif \"/valid\" in x:\n",
    "        return \"valid\"\n",
    "    elif \"/test\" in x:\n",
    "        return \"test\"\n",
    "    return None\n",
    "def find_configtype(x):\n",
    "    if \"/default\" in x:\n",
    "        return \"default\"\n",
    "    elif \"/random\" in x:\n",
    "        return \"random\"\n",
    "    return \"istile\"\n",
    "def find_modeltype(x):\n",
    "    if \"/nlp\" in x:\n",
    "        return \"nlp\"\n",
    "    elif \"/xla\" in x:\n",
    "        return \"xla\"\n",
    "    return None\n",
    "def find_grapthtype(x):\n",
    "    if \"/layout\" in x:\n",
    "        return \"layout\"\n",
    "    elif \"/tile\" in x:\n",
    "        return \"tile\"\n",
    "    return None\n",
    "df[\"split\"] = df.path.apply(lambda x : find_split(x))\n",
    "df[\"config_type\"] = df.path.apply(lambda x : find_configtype(x))\n",
    "df[\"modeltype\"] = df.path.apply(lambda x : find_modeltype(x))\n",
    "df[\"graphtype\"] = df.path.apply(lambda x : find_grapthtype(x))\n"
   ]
  },
  {
   "cell_type": "code",
   "execution_count": 4,
   "metadata": {},
   "outputs": [
    {
     "data": {
      "text/html": [
       "<div>\n",
       "<style scoped>\n",
       "    .dataframe tbody tr th:only-of-type {\n",
       "        vertical-align: middle;\n",
       "    }\n",
       "\n",
       "    .dataframe tbody tr th {\n",
       "        vertical-align: top;\n",
       "    }\n",
       "\n",
       "    .dataframe thead th {\n",
       "        text-align: right;\n",
       "    }\n",
       "</style>\n",
       "<table border=\"1\" class=\"dataframe\">\n",
       "  <thead>\n",
       "    <tr style=\"text-align: right;\">\n",
       "      <th></th>\n",
       "      <th></th>\n",
       "      <th></th>\n",
       "      <th>path</th>\n",
       "    </tr>\n",
       "    <tr>\n",
       "      <th>modeltype</th>\n",
       "      <th>config_type</th>\n",
       "      <th>split</th>\n",
       "      <th></th>\n",
       "    </tr>\n",
       "  </thead>\n",
       "  <tbody>\n",
       "    <tr>\n",
       "      <th rowspan=\"6\" valign=\"top\">nlp</th>\n",
       "      <th rowspan=\"3\" valign=\"top\">default</th>\n",
       "      <th>test</th>\n",
       "      <td>17</td>\n",
       "    </tr>\n",
       "    <tr>\n",
       "      <th>train</th>\n",
       "      <td>198</td>\n",
       "    </tr>\n",
       "    <tr>\n",
       "      <th>valid</th>\n",
       "      <td>20</td>\n",
       "    </tr>\n",
       "    <tr>\n",
       "      <th rowspan=\"3\" valign=\"top\">random</th>\n",
       "      <th>test</th>\n",
       "      <td>17</td>\n",
       "    </tr>\n",
       "    <tr>\n",
       "      <th>train</th>\n",
       "      <td>207</td>\n",
       "    </tr>\n",
       "    <tr>\n",
       "      <th>valid</th>\n",
       "      <td>20</td>\n",
       "    </tr>\n",
       "    <tr>\n",
       "      <th rowspan=\"6\" valign=\"top\">xla</th>\n",
       "      <th rowspan=\"3\" valign=\"top\">default</th>\n",
       "      <th>test</th>\n",
       "      <td>8</td>\n",
       "    </tr>\n",
       "    <tr>\n",
       "      <th>train</th>\n",
       "      <td>61</td>\n",
       "    </tr>\n",
       "    <tr>\n",
       "      <th>valid</th>\n",
       "      <td>7</td>\n",
       "    </tr>\n",
       "    <tr>\n",
       "      <th rowspan=\"3\" valign=\"top\">random</th>\n",
       "      <th>test</th>\n",
       "      <td>8</td>\n",
       "    </tr>\n",
       "    <tr>\n",
       "      <th>train</th>\n",
       "      <td>69</td>\n",
       "    </tr>\n",
       "    <tr>\n",
       "      <th>valid</th>\n",
       "      <td>7</td>\n",
       "    </tr>\n",
       "  </tbody>\n",
       "</table>\n",
       "</div>"
      ],
      "text/plain": [
       "                             path\n",
       "modeltype config_type split      \n",
       "nlp       default     test     17\n",
       "                      train   198\n",
       "                      valid    20\n",
       "          random      test     17\n",
       "                      train   207\n",
       "                      valid    20\n",
       "xla       default     test      8\n",
       "                      train    61\n",
       "                      valid     7\n",
       "          random      test      8\n",
       "                      train    69\n",
       "                      valid     7"
      ]
     },
     "execution_count": 4,
     "metadata": {},
     "output_type": "execute_result"
    }
   ],
   "source": [
    "df[df.graphtype==\"layout\"][[\"config_type\",\"modeltype\",\"split\",\"path\"]].groupby([\"modeltype\",\"config_type\",\"split\"]).count()"
   ]
  },
  {
   "cell_type": "code",
   "execution_count": 5,
   "metadata": {},
   "outputs": [],
   "source": [
    "# num_edges = []\n",
    "# num_nodes = []\n",
    "# num_configs = []\n",
    "# layout_df = df[df.graphtype==\"layout\"].reset_index(drop=True)\n",
    "# for d in tqdm(layout_df.path):\n",
    "#     data = dict(np.load(d))\n",
    "#     num_edges.append(len(data[\"edge_index\"]))\n",
    "#     num_nodes.append(len(data[\"node_feat\"]))\n",
    "#     num_configs.append(len(data[\"config_runtime\"]))\n",
    "# layout_df[\"num_edges\"] = num_edges\n",
    "# layout_df[\"num_nodes\"] = num_nodes\n",
    "# layout_df[\"num_configs\"] = num_configs\n",
    "# layout_df.to_csv(\"/app/nn-runtime-network/workdir/csvs/layout_info.csv\",index=False)"
   ]
  },
  {
   "cell_type": "code",
   "execution_count": 6,
   "metadata": {},
   "outputs": [],
   "source": [
    "layout_df = pd.read_csv(\"/app/nn-runtime-network/workdir/csvs/layout_info.csv\")"
   ]
  },
  {
   "cell_type": "code",
   "execution_count": 7,
   "metadata": {},
   "outputs": [],
   "source": [
    "layout_df = df[df.graphtype==\"layout\"].merge(on=\"path\",right=layout_df[[\"path\",\"num_nodes\"]])"
   ]
  },
  {
   "cell_type": "code",
   "execution_count": 12,
   "metadata": {},
   "outputs": [
    {
     "name": "stdout",
     "output_type": "stream",
     "text": [
      "Symlinks to 8 files created in the \"/app/dataset/various_splits/xla_random/test\" folder.\n"
     ]
    },
    {
     "name": "stderr",
     "output_type": "stream",
     "text": [
      "/tmp/ipykernel_1785733/2030166892.py:7: UserWarning: Boolean Series key will be reindexed to match DataFrame index.\n",
      "  file_paths = df[(df.split==spl)&(df.graphtype==\"layout\")&(layout_df.config_type==\"random\")&(layout_df.modeltype==\"xla\")].path.tolist()\n"
     ]
    }
   ],
   "source": [
    "import os\n",
    "df = layout_df[(layout_df.num_nodes<30000)|(layout_df.split==\"test\")]\n",
    "for spl in df.split.unique():\n",
    "    if spl!=\"test\":\n",
    "        continue\n",
    "    # Replace these with your list of file paths\n",
    "    file_paths = df[(df.split==spl)&(df.graphtype==\"layout\")&(layout_df.config_type==\"random\")&(layout_df.modeltype==\"xla\")].path.tolist()\n",
    "\n",
    "    folder_path = f\"/app/dataset/various_splits/xla_random/{spl}\"\n",
    "    os.makedirs(folder_path, exist_ok=True)\n",
    "\n",
    "    # Create symbolic links in the folder\n",
    "    for file_path in file_paths:\n",
    "        # Extract the file name from the file path\n",
    "        file_name = \"___\".join(file_path.split(\"/\")[-4:])\n",
    "        \n",
    "        # Create a symlink in the 'train' folder pointing to the original file\n",
    "        symlink_path = os.path.join(folder_path, file_name)\n",
    "        \n",
    "        # Create the symlink\n",
    "        os.symlink(file_path, symlink_path)\n",
    "\n",
    "    print(f'Symlinks to {len(file_paths)} files created in the \"{folder_path}\" folder.')\n"
   ]
  },
  {
   "attachments": {},
   "cell_type": "markdown",
   "metadata": {},
   "source": [
    "# All tiles"
   ]
  },
  {
   "cell_type": "code",
   "execution_count": 5,
   "metadata": {},
   "outputs": [
    {
     "name": "stdout",
     "output_type": "stream",
     "text": [
      "Symlinks to 844 files created in the \"/app/dataset/various_splits/all_tile/test\" folder.\n",
      "Symlinks to 6089 files created in the \"/app/dataset/various_splits/all_tile/train\" folder.\n",
      "Symlinks to 296 files created in the \"/app/dataset/various_splits/all_tile/valid\" folder.\n"
     ]
    }
   ],
   "source": [
    "import os\n",
    "# df = layout_df\n",
    "for spl in df.split.unique():\n",
    "    \n",
    "    # Replace these with your list of file paths\n",
    "    if spl==\"train\" and True:\n",
    "        file_paths = df[(df.split==spl)&(df.graphtype==\"tile\")].path.tolist()\n",
    "    else:\n",
    "        file_paths = df[(df.split==spl)&(df.graphtype==\"tile\")].path.tolist()\n",
    "\n",
    "    folder_path = f\"/app/dataset/various_splits/all_tile/{spl}\"\n",
    "    os.makedirs(folder_path, exist_ok=True)\n",
    "\n",
    "    # Create symbolic links in the folder\n",
    "    for file_path in file_paths:\n",
    "        # Extract the file name from the file path\n",
    "        file_name = \"___\".join(file_path.split(\"/\")[-4:])\n",
    "        \n",
    "        # Create a symlink in the 'train' folder pointing to the original file\n",
    "        symlink_path = os.path.join(folder_path, file_name)\n",
    "        \n",
    "        # Create the symlink\n",
    "        os.symlink(file_path, symlink_path)\n",
    "\n",
    "    print(f'Symlinks to {len(file_paths)} files created in the \"{folder_path}\" folder.')\n"
   ]
  }
 ],
 "metadata": {
  "kernelspec": {
   "display_name": "Python 3",
   "language": "python",
   "name": "python3"
  },
  "language_info": {
   "codemirror_mode": {
    "name": "ipython",
    "version": 3
   },
   "file_extension": ".py",
   "mimetype": "text/x-python",
   "name": "python",
   "nbconvert_exporter": "python",
   "pygments_lexer": "ipython3",
   "version": "3.8.10"
  },
  "orig_nbformat": 4
 },
 "nbformat": 4,
 "nbformat_minor": 2
}
