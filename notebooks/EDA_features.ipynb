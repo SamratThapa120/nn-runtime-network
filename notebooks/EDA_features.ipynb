{
 "cells": [
  {
   "cell_type": "code",
   "execution_count": 1,
   "metadata": {},
   "outputs": [
    {
     "name": "stderr",
     "output_type": "stream",
     "text": [
      "/usr/local/lib/python3.8/dist-packages/tqdm/auto.py:22: TqdmWarning: IProgress not found. Please update jupyter and ipywidgets. See https://ipywidgets.readthedocs.io/en/stable/user_install.html\n",
      "  from .autonotebook import tqdm as notebook_tqdm\n"
     ]
    }
   ],
   "source": [
    "import torch\n",
    "import matplotlib.pyplot as plt\n",
    "import plotly.express as px\n",
    "import sys\n",
    "import glob\n",
    "import json\n",
    "import numpy as np\n",
    "from tqdm import tqdm\n",
    "sys.path.append(\"../\")"
   ]
  },
  {
   "cell_type": "code",
   "execution_count": 2,
   "metadata": {},
   "outputs": [
    {
     "name": "stdout",
     "output_type": "stream",
     "text": [
      "7868\n",
      "7868\n"
     ]
    }
   ],
   "source": [
    "import glob\n",
    "import os\n",
    "import pandas as pd\n",
    "\n",
    "def get_npy_files(root_path):\n",
    "    # Use a glob pattern to match all .npz files in the directory and subdirectories\n",
    "    pattern = os.path.join(root_path, '**', '*.npz')\n",
    "    npy_files = glob.glob(pattern, recursive=True)\n",
    "    return npy_files\n",
    "\n",
    "all_npy_files = get_npy_files(\"/app/dataset/npz_all/npz/layout\")+get_npy_files(\"/app/dataset/npz_all/npz/tile/xla\")\n",
    "print(len(all_npy_files))\n",
    "# Create a DataFrame from the list of npy files\n",
    "df = pd.DataFrame(all_npy_files, columns=[\"path\"])\n",
    "print(len(df))\n",
    "def find_split(x):\n",
    "    if \"/train\" in x:\n",
    "        return \"train\"\n",
    "    elif \"/valid\" in x:\n",
    "        return \"valid\"\n",
    "    elif \"/test\" in x:\n",
    "        return \"test\"\n",
    "    return None\n",
    "def find_configtype(x):\n",
    "    if \"/default\" in x:\n",
    "        return \"default\"\n",
    "    elif \"/random\" in x:\n",
    "        return \"random\"\n",
    "    return \"istile\"\n",
    "def find_modeltype(x):\n",
    "    if \"/nlp\" in x:\n",
    "        return \"nlp\"\n",
    "    elif \"/xla\" in x:\n",
    "        return \"xla\"\n",
    "    return None\n",
    "def find_grapthtype(x):\n",
    "    if \"/layout\" in x:\n",
    "        return \"layout\"\n",
    "    elif \"/tile\" in x:\n",
    "        return \"tile\"\n",
    "    return None\n",
    "df[\"split\"] = df.path.apply(lambda x : find_split(x))\n",
    "df[\"config_type\"] = df.path.apply(lambda x : find_configtype(x))\n",
    "df[\"modeltype\"] = df.path.apply(lambda x : find_modeltype(x))\n",
    "df[\"graphtype\"] = df.path.apply(lambda x : find_grapthtype(x))\n",
    "df[\"modelname\"] = df.path.apply(lambda x: x.split(\"/\")[-1])"
   ]
  },
  {
   "cell_type": "code",
   "execution_count": 3,
   "metadata": {},
   "outputs": [],
   "source": [
    "path = df[(df.modeltype==\"xla\")&(df.graphtype==\"layout\")&(df.split==\"train\")].path.to_list()[0]"
   ]
  },
  {
   "cell_type": "code",
   "execution_count": 4,
   "metadata": {},
   "outputs": [],
   "source": [
    "data = dict(np.load(path))"
   ]
  },
  {
   "cell_type": "code",
   "execution_count": 10,
   "metadata": {},
   "outputs": [],
   "source": [
    "import networkx as nx\n",
    "from pyvis.network import Network\n",
    "import numpy as np\n",
    "\n",
    "# Initialize a networkx graph\n",
    "G = nx.Graph()\n",
    "\n",
    "# Add nodes with attributes to the graph, converting opcodes to int (JSON serializable)\n",
    "for idx, opcode in enumerate(data['node_opcode']):\n",
    "    G.add_node(int(idx), opcode=int(opcode))\n",
    "\n",
    "# Add edges to the graph, making sure each ID is an integer\n",
    "edges = data['edge_index']\n",
    "for edge in edges:\n",
    "    G.add_edge(int(edge[0]), int(edge[1]))\n",
    "\n",
    "# Initialize PyVis network\n",
    "nt = Network(height=\"800px\", width=\"100%\", notebook=False, heading='Graph Visualization')\n",
    "\n",
    "colormap = plt.get_cmap('nipy_spectral')\n",
    "# Normalize opcode numbers to fit within the range of the colormap\n",
    "\n",
    "norm = plt.Normalize(min(data['node_opcode']), max(data['node_opcode']))\n",
    "\n",
    "# Map opcodes to colors using the colormap\n",
    "opcode_colors = {opcode: colormap(norm(opcode)) for opcode in data['node_opcode']}\n",
    "\n",
    "# Take the networkx graph and translate it to a pyvis graph\n",
    "nt.from_nx(G)\n",
    "\n",
    "# Set options for nodes\n",
    "for node in nt.nodes:\n",
    "    opcode = G.nodes[node['id']]['opcode']\n",
    "    color = matplotlib.colors.rgb2hex(opcode_colors[opcode])  # Convert RGBA to hex\n",
    "    node[\"title\"] = f\"Opcode: {opcode}\"\n",
    "    node[\"value\"] = 10  # You can set this to represent a specific metric\n",
    "    node[\"label\"] = ''  # You can remove or set to some label you want to show\n",
    "    node[\"color\"] = color\n",
    "\n",
    "nt.set_options(\"\"\"\n",
    "{\n",
    "  \"nodes\": {\n",
    "    \"font\": {\n",
    "      \"size\": 12\n",
    "    }\n",
    "  },\n",
    "  \"edges\": {\n",
    "    \"color\": {\n",
    "      \"inherit\": true\n",
    "    },\n",
    "    \"smooth\": false\n",
    "  },\n",
    "  \"physics\": {\n",
    "    \"hierarchicalRepulsion\": {\n",
    "      \"centralGravity\": 0.0,\n",
    "      \"springLength\": 100,\n",
    "      \"springConstant\": 0.01,\n",
    "      \"nodeDistance\": 120,\n",
    "      \"damping\": 0.09\n",
    "    }\n",
    "  }\n",
    "}\n",
    "\"\"\")\n",
    "\n",
    "# Save the graph to an HTML file\n",
    "nt.write_html('graph.html')\n"
   ]
  },
  {
   "cell_type": "code",
   "execution_count": null,
   "metadata": {},
   "outputs": [],
   "source": []
  }
 ],
 "metadata": {
  "kernelspec": {
   "display_name": "Python 3",
   "language": "python",
   "name": "python3"
  },
  "language_info": {
   "codemirror_mode": {
    "name": "ipython",
    "version": 3
   },
   "file_extension": ".py",
   "mimetype": "text/x-python",
   "name": "python",
   "nbconvert_exporter": "python",
   "pygments_lexer": "ipython3",
   "version": "3.8.10"
  },
  "orig_nbformat": 4
 },
 "nbformat": 4,
 "nbformat_minor": 2
}
