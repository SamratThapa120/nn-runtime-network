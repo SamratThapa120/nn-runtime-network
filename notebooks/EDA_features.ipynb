{
 "cells": [
  {
   "cell_type": "code",
   "execution_count": 1,
   "metadata": {},
   "outputs": [
    {
     "name": "stderr",
     "output_type": "stream",
     "text": [
      "/usr/local/lib/python3.8/dist-packages/tqdm/auto.py:22: TqdmWarning: IProgress not found. Please update jupyter and ipywidgets. See https://ipywidgets.readthedocs.io/en/stable/user_install.html\n",
      "  from .autonotebook import tqdm as notebook_tqdm\n"
     ]
    }
   ],
   "source": [
    "import torch\n",
    "import matplotlib.pyplot as plt\n",
    "import plotly.express as px\n",
    "import sys\n",
    "import glob\n",
    "import json\n",
    "import numpy as np\n",
    "from tqdm import tqdm\n",
    "sys.path.append(\"../\")"
   ]
  },
  {
   "cell_type": "code",
   "execution_count": 2,
   "metadata": {},
   "outputs": [],
   "source": [
    "norms  = np.load(\"/app/dataset/various_splits/all_layout/normalizers.npy\",allow_pickle=True).item()"
   ]
  },
  {
   "cell_type": "code",
   "execution_count": 136,
   "metadata": {},
   "outputs": [],
   "source": [
    "path=\"/app/alexnet_train_batch_32.npz\""
   ]
  },
  {
   "cell_type": "code",
   "execution_count": 137,
   "metadata": {},
   "outputs": [],
   "source": [
    "opcode_name = json.load(open(\"/app/nn-runtime-network/assets/opt_code.json\"))\n",
    "feature_vec_name = json.load(open(\"/app/nn-runtime-network/assets/node_feature_vector.json\"))"
   ]
  },
  {
   "cell_type": "code",
   "execution_count": 138,
   "metadata": {},
   "outputs": [
    {
     "name": "stdout",
     "output_type": "stream",
     "text": [
      "7868\n",
      "7868\n"
     ]
    }
   ],
   "source": [
    "import glob\n",
    "import os\n",
    "import pandas as pd\n",
    "\n",
    "def get_npy_files(root_path):\n",
    "    # Use a glob pattern to match all .npz files in the directory and subdirectories\n",
    "    pattern = os.path.join(root_path, '**', '*.npz')\n",
    "    npy_files = glob.glob(pattern, recursive=True)\n",
    "    return npy_files\n",
    "\n",
    "all_npy_files = get_npy_files(\"/app/dataset/npz_all/npz/layout\")+get_npy_files(\"/app/dataset/npz_all/npz/tile/xla\")\n",
    "print(len(all_npy_files))\n",
    "# Create a DataFrame from the list of npy files\n",
    "df = pd.DataFrame(all_npy_files, columns=[\"path\"])\n",
    "print(len(df))\n",
    "def find_split(x):\n",
    "    if \"/train\" in x:\n",
    "        return \"train\"\n",
    "    elif \"/valid\" in x:\n",
    "        return \"valid\"\n",
    "    elif \"/test\" in x:\n",
    "        return \"test\"\n",
    "    return None\n",
    "def find_configtype(x):\n",
    "    if \"/default\" in x:\n",
    "        return \"default\"\n",
    "    elif \"/random\" in x:\n",
    "        return \"random\"\n",
    "    return \"istile\"\n",
    "def find_modeltype(x):\n",
    "    if \"/nlp\" in x:\n",
    "        return \"nlp\"\n",
    "    elif \"/xla\" in x:\n",
    "        return \"xla\"\n",
    "    return None\n",
    "def find_grapthtype(x):\n",
    "    if \"/layout\" in x:\n",
    "        return \"layout\"\n",
    "    elif \"/tile\" in x:\n",
    "        return \"tile\"\n",
    "    return None\n",
    "df[\"split\"] = df.path.apply(lambda x : find_split(x))\n",
    "df[\"config_type\"] = df.path.apply(lambda x : find_configtype(x))\n",
    "df[\"modeltype\"] = df.path.apply(lambda x : find_modeltype(x))\n",
    "df[\"graphtype\"] = df.path.apply(lambda x : find_grapthtype(x))\n",
    "df[\"modelname\"] = df.path.apply(lambda x: x.split(\"/\")[-1])"
   ]
  },
  {
   "cell_type": "code",
   "execution_count": 145,
   "metadata": {},
   "outputs": [],
   "source": [
    "path = df[(df.modeltype==\"nlp\")&(df.graphtype==\"layout\")&(df.split==\"train\")].path.to_list()[0]"
   ]
  },
  {
   "cell_type": "code",
   "execution_count": 146,
   "metadata": {},
   "outputs": [],
   "source": [
    "data = dict(np.load(path))"
   ]
  },
  {
   "cell_type": "code",
   "execution_count": 147,
   "metadata": {},
   "outputs": [],
   "source": [
    "def node_config_feat_string(inf):\n",
    "    outstr = \"x\".join([str(int(i)) for i in inf[:6]])\n",
    "    inpstr = \"x\".join([str(int(i)) for i in inf[6:12]])\n",
    "    kernstr = \"x\".join([str(int(i)) for i in inf[12:]])\n",
    "    return f\"out: {outstr},inp: {inpstr}, kern: {kernstr}\"\n",
    "def node_feat_string(inf):\n",
    "    layoutminmaj = \"x\".join([str(int(i)) for i in inf[134:]])\n",
    "    shapdim = \"x\".join([str(int(i)) for i in inf[21:27] ])\n",
    "    dimensions = \"x\".join([str(int(i)) for i in inf[31:37] ])\n",
    "    convdims = \"x\".join([str(int(i)) for i in inf[93:106]])\n",
    "    return f\"lay:{layoutminmaj},shape:{shapdim},dims:{dimensions}\\n convdim:{convdims}\""
   ]
  },
  {
   "cell_type": "code",
   "execution_count": 148,
   "metadata": {},
   "outputs": [],
   "source": [
    "import matplotlib.pyplot as plt\n",
    "import networkx as nx\n",
    "from pyvis.network import Network\n",
    "import numpy as np\n",
    "import matplotlib\n",
    "\n",
    "# Initialize a directed networkx graph\n",
    "G = nx.DiGraph()\n",
    "\n",
    "# Add nodes with attributes to the graph\n",
    "for idx, opcode in enumerate(data['node_opcode']):\n",
    "    G.add_node(int(idx), opcode=int(opcode))\n",
    "\n",
    "# Add directed edges to the graph\n",
    "edges = data['edge_index']\n",
    "for edge in edges:\n",
    "    G.add_edge(int(edge[1]), int(edge[0]))\n",
    "\n",
    "\n",
    "nodes_to_keep = list(nx.bfs_tree(G, source=0, depth_limit=999))  # This assumes node IDs start at 0\n",
    "\n",
    "nodes_to_keep = nodes_to_keep[:1000]\n",
    "\n",
    "G = G.subgraph(nodes_to_keep).copy()\n",
    "\n",
    "nt = Network(\"800px\", \"100%\", notebook=False, heading='Directed Graph Visualization', directed=True)\n",
    "\n",
    "# Create a colormap with matplotlib\n",
    "colormap = plt.get_cmap('nipy_spectral')\n",
    "norm = plt.Normalize(min(data['node_opcode']), max(data['node_opcode']))\n",
    "\n",
    "opcode_colors = {opcode: colormap(norm(opcode)) for opcode in data['node_opcode']}\n",
    "\n",
    "# Take the networkx graph and translate it to a pyvis graph\n",
    "nt.from_nx(G)\n",
    "nodeconf_ids =  data[\"node_config_ids\"].tolist()\n",
    "# Set options for nodes\n",
    "for node in nt.nodes:\n",
    "    opcode = G.nodes[node['id']]['opcode']\n",
    "    nodestring = f\"Opcode: {opcode_name[str(opcode)]}\"\n",
    "\n",
    "    color = matplotlib.colors.rgb2hex(opcode_colors[opcode])  # Convert RGBA to hex\n",
    "    if node[\"id\"] in nodeconf_ids:\n",
    "        idx = nodeconf_ids.index(node[\"id\"])\n",
    "        nodestring = nodestring+\"\\n conf1>\"+node_config_feat_string(data[\"node_config_feat\"][0,idx])\n",
    "        nodestring = nodestring+\"\\n conf2>\"+node_config_feat_string(data[\"node_config_feat\"][len(data[\"node_config_feat\"])//2,idx])\n",
    "        nodestring = nodestring+\"\\n conf3>\"+node_config_feat_string(data[\"node_config_feat\"][len(data[\"node_config_feat\"])-1,idx])\n",
    "    nodestring = nodestring+ \"\\n node>\"+node_feat_string(data[\"node_feat\"][node[\"id\"]])\n",
    "    node[\"title\"] = nodestring\n",
    "    node[\"label\"] = ''  # You can remove or set to some label you want to show\n",
    "    node[\"color\"] = color\n",
    "    node[\"size\"] = 10 if opcode not in [2,26,75,34,63] else 20\n",
    "    node[\"value\"] = node[\"size\"] \n",
    "\n",
    "# Set the physics layout and interaction options of the network\n",
    "nt.set_options(\"\"\"\n",
    "var options = {\n",
    "  \"nodes\": {\n",
    "    \"font\": {\n",
    "      \"size\": 12\n",
    "    }\n",
    "  },\n",
    "  \"edges\": {\n",
    "    \"color\": {\n",
    "      \"inherit\": true\n",
    "    },\n",
    "    \"arrows\": {\n",
    "      \"to\": { \"enabled\": true, \"scaleFactor\": 0.5 }\n",
    "    },\n",
    "    \"smooth\": false\n",
    "  },\n",
    "  \"physics\": {\n",
    "    \"forceAtlas2Based\": {\n",
    "      \"gravitationalConstant\": -26,\n",
    "      \"centralGravity\": 0.005,\n",
    "      \"springLength\": 230,\n",
    "      \"springConstant\": 0.18\n",
    "    },\n",
    "    \"maxVelocity\": 146,\n",
    "    \"solver\": \"forceAtlas2Based\",\n",
    "    \"timestep\": 0.35,\n",
    "    \"stabilization\": { \"iterations\": 150 }\n",
    "  }\n",
    "}\n",
    "\"\"\")\n",
    "\n",
    "# Save the graph to an HTML file\n",
    "nt.write_html('graph.html')\n"
   ]
  },
  {
   "cell_type": "code",
   "execution_count": 135,
   "metadata": {},
   "outputs": [
    {
     "data": {
      "text/plain": [
       "'/app/dataset/npz_all/npz/layout/xla/default/train/alexnet_train_batch_32.npz'"
      ]
     },
     "execution_count": 135,
     "metadata": {},
     "output_type": "execute_result"
    }
   ],
   "source": [
    "path"
   ]
  }
 ],
 "metadata": {
  "kernelspec": {
   "display_name": "Python 3",
   "language": "python",
   "name": "python3"
  },
  "language_info": {
   "codemirror_mode": {
    "name": "ipython",
    "version": 3
   },
   "file_extension": ".py",
   "mimetype": "text/x-python",
   "name": "python",
   "nbconvert_exporter": "python",
   "pygments_lexer": "ipython3",
   "version": "3.8.10"
  },
  "orig_nbformat": 4
 },
 "nbformat": 4,
 "nbformat_minor": 2
}
