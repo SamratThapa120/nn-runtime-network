{
 "cells": [
  {
   "cell_type": "code",
   "execution_count": 1,
   "metadata": {},
   "outputs": [],
   "source": [
    "import glob\n",
    "import os\n",
    "import numpy as np"
   ]
  },
  {
   "cell_type": "code",
   "execution_count": 2,
   "metadata": {},
   "outputs": [],
   "source": [
    "import json\n",
    "\n",
    "def parse_file_to_dicts(file_path):\n",
    "    dicts = []\n",
    "    with open(file_path, 'r') as file:\n",
    "        for line in file:\n",
    "            if line.startswith('###Iter:'):\n",
    "                # Extract the JSON string part\n",
    "                json_str = line.split('::', 1)[1].strip()\n",
    "                # Use json.loads to convert the string to a dictionary\n",
    "                dict_data = json.loads(json_str.replace(\"'\", \"\\\"\"))\n",
    "                dicts.append(dict_data)\n",
    "    return dicts"
   ]
  },
  {
   "cell_type": "code",
   "execution_count": 9,
   "metadata": {},
   "outputs": [],
   "source": [
    "def max_values_from_dicts(dicts):\n",
    "    max_values = {}\n",
    "    max_indices = {}\n",
    "\n",
    "    for index, d in enumerate(dicts):\n",
    "        for key, value in d.items():\n",
    "            # Check if we need to update the maximum value and its index for each key\n",
    "            if key not in max_values or value > max_values[key]:\n",
    "                max_values[key] = value\n",
    "                max_indices[key] = index\n",
    "\n",
    "    # Merge the dictionaries to have the value and index in a tuple\n",
    "    combined_max_values = {key: (max_values[key], max_indices[key]) for key in max_values}\n",
    "\n",
    "    return combined_max_values"
   ]
  },
  {
   "cell_type": "code",
   "execution_count": 4,
   "metadata": {},
   "outputs": [],
   "source": [
    "files = glob.glob(\"/app/nn-runtime-network/workdir/*/logs.txt\")"
   ]
  },
  {
   "cell_type": "code",
   "execution_count": 5,
   "metadata": {},
   "outputs": [
    {
     "name": "stdout",
     "output_type": "stream",
     "text": [
      "error: /app/nn-runtime-network/workdir/listmle_graphsage_realtivenorm/logs.txt\n"
     ]
    }
   ],
   "source": [
    "max_vals={}\n",
    "for f in files:\n",
    "    try:\n",
    "        mv = max_values_from_dicts(parse_file_to_dicts(f))\n",
    "        if \"opa_xla___default\" in mv:\n",
    "            max_vals[f.split(\"/\")[-2]] = mv\n",
    "    except:\n",
    "        print(\"error:\",f)"
   ]
  },
  {
   "cell_type": "code",
   "execution_count": 17,
   "metadata": {},
   "outputs": [
    {
     "data": {
      "text/plain": [
       "{'training_loss': (493486359.3808594, 'listmle_mse_graphsage'),\n",
       " 'ordered_pair_accuracy': (0.7270833253860474,\n",
       "  'listmle_graphsage_bestparams_layernorm'),\n",
       " 'kendall_tau': (0.4541666666666666, 'listmle_graphsage_bestparams_layernorm'),\n",
       " 'valid_loss': (16670388.712890625, 'listmle_mse_graphsage'),\n",
       " 'opa_nlp___default': (0.7614583373069763,\n",
       "  'listmle_graphsage_bestparams_layernorm'),\n",
       " 'ktau_nlp___default': (0.5221152176852893,\n",
       "  'listmle_graphsage_bestparams_layernorm'),\n",
       " 'opa_nlp___random': (0.8729166388511658, 'listmle_graphsage_bestparams'),\n",
       " 'ktau_nlp___random': (0.7458333333333333, 'listmle_graphsage_bestparams'),\n",
       " 'opa_xla___default': (0.6428571343421936,\n",
       "  'listmle_graphsage_bestparams_layer5'),\n",
       " 'ktau_xla___default': (0.2857142857142857,\n",
       "  'listmle_graphsage_bestparams_layer5'),\n",
       " 'opa_xla___random': (0.6964285969734192,\n",
       "  'listmle_graphsage_bestparams_layer5'),\n",
       " 'ktau_xla___random': (0.3850754560807358,\n",
       "  'listmle_graphsage_bestparams_layer5')}"
      ]
     },
     "execution_count": 17,
     "metadata": {},
     "output_type": "execute_result"
    }
   ],
   "source": [
    "best_metrics = max_values_from_dicts(max_vals.values())\n",
    "run_names = list(max_vals.keys())\n",
    "{k:(v[0],run_names[v[1]]) for k,v in best_metrics.items()}"
   ]
  },
  {
   "cell_type": "code",
   "execution_count": 7,
   "metadata": {},
   "outputs": [
    {
     "data": {
      "text/plain": [
       "0.4846845732034111"
      ]
     },
     "execution_count": 7,
     "metadata": {},
     "output_type": "execute_result"
    }
   ],
   "source": [
    "np.mean([zz[k] for k in zz if \"ktau\" in k])"
   ]
  }
 ],
 "metadata": {
  "kernelspec": {
   "display_name": "Python 3",
   "language": "python",
   "name": "python3"
  },
  "language_info": {
   "codemirror_mode": {
    "name": "ipython",
    "version": 3
   },
   "file_extension": ".py",
   "mimetype": "text/x-python",
   "name": "python",
   "nbconvert_exporter": "python",
   "pygments_lexer": "ipython3",
   "version": "3.8.10"
  },
  "orig_nbformat": 4
 },
 "nbformat": 4,
 "nbformat_minor": 2
}
