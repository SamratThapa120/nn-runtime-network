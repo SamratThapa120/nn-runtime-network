{
 "cells": [
  {
   "cell_type": "code",
   "execution_count": 1,
   "metadata": {},
   "outputs": [
    {
     "name": "stderr",
     "output_type": "stream",
     "text": [
      "/usr/local/lib/python3.8/dist-packages/tqdm/auto.py:22: TqdmWarning: IProgress not found. Please update jupyter and ipywidgets. See https://ipywidgets.readthedocs.io/en/stable/user_install.html\n",
      "  from .autonotebook import tqdm as notebook_tqdm\n"
     ]
    }
   ],
   "source": [
    "import torch\n",
    "import matplotlib.pyplot as plt\n",
    "import plotly.express as px\n",
    "import networkx as nx\n",
    "import sys\n",
    "import glob\n",
    "import os\n",
    "import numpy as np\n",
    "import json\n",
    "from tqdm import tqdm\n",
    "sys.path.append(\"../\")\n",
    "from ml_graph_timer.dataset.layout_dataset import NpzDataset,GraphCollator"
   ]
  },
  {
   "cell_type": "code",
   "execution_count": 2,
   "metadata": {},
   "outputs": [],
   "source": [
    "from torch.utils.data import DataLoader\n",
    "from configs.listmle_gsage_bestparams import Configs"
   ]
  },
  {
   "cell_type": "code",
   "execution_count": 3,
   "metadata": {},
   "outputs": [],
   "source": [
    "opcodes = json.load(open(\"/app/nn-runtime-network/assets/opt_code.json\"))"
   ]
  },
  {
   "cell_type": "code",
   "execution_count": 4,
   "metadata": {},
   "outputs": [
    {
     "name": "stdout",
     "output_type": "stream",
     "text": [
      "length of train: 535, length of valid: 54, length of test: 50\n"
     ]
    }
   ],
   "source": [
    "CFG = Configs()"
   ]
  },
  {
   "cell_type": "code",
   "execution_count": 6,
   "metadata": {},
   "outputs": [],
   "source": [
    "dataloader = DataLoader(CFG.valid_dataset, batch_size=4, shuffle=False, collate_fn=CFG.dataloder_collate_val,num_workers=8,pin_memory=False)\n",
    "zz = next(iter(dataloader))"
   ]
  },
  {
   "cell_type": "code",
   "execution_count": 6,
   "metadata": {},
   "outputs": [
    {
     "name": "stdout",
     "output_type": "stream",
     "text": [
      "loading model checkpoint from epoch:  2040\n"
     ]
    },
    {
     "data": {
      "text/plain": [
       "1"
      ]
     },
     "execution_count": 6,
     "metadata": {},
     "output_type": "execute_result"
    }
   ],
   "source": [
    "CFG.load_state_dict(os.path.join(CFG.OUTPUTDIR,\"latest_model.pkl\"))\n",
    "model = CFG.model\n",
    "model.eval()\n",
    "model.cuda()\n",
    "1"
   ]
  },
  {
   "cell_type": "code",
   "execution_count": 7,
   "metadata": {},
   "outputs": [
    {
     "name": "stdout",
     "output_type": "stream",
     "text": [
      "Total parameters: 1262335\n",
      "Trainable parameters: 1262335\n"
     ]
    }
   ],
   "source": [
    "def count_parameters(model):\n",
    "    total_params = sum(p.numel() for p in model.parameters())\n",
    "    trainable_params = sum(p.numel() for p in model.parameters() if p.requires_grad)\n",
    "    return total_params, trainable_params\n",
    "\n",
    "total, trainable = count_parameters(model)\n",
    "print(f\"Total parameters: {total}\")\n",
    "print(f\"Trainable parameters: {trainable}\")\n"
   ]
  },
  {
   "attachments": {},
   "cell_type": "markdown",
   "metadata": {},
   "source": [
    "# Output analysis"
   ]
  },
  {
   "cell_type": "code",
   "execution_count": null,
   "metadata": {},
   "outputs": [],
   "source": [
    "outputs = []\n",
    "# Function that will be called when the hook is triggered\n",
    "def hook_fn(module, input, output):\n",
    "    outputs.append(output.detach().cpu())\n",
    "\n",
    "# Register the forward hook\n",
    "hook = CFG.model.final_classifier.register_forward_hook(hook_fn)\n",
    "nodeinfo = []\n",
    "nodeops_indo = []\n",
    "with torch.no_grad():\n",
    "    for zz in tqdm(dataloader):\n",
    "        if zz[\"node_features\"].shape[0]/zz[\"batches\"].shape[0]>10000:\n",
    "            continue\n",
    "        out = model(**{k:zz[k].cuda() for k in zz}).cpu()\n",
    "        aggregated = [[] for _ in torch.unique(zz[\"node_separation\"])]\n",
    "        start_idx = 0\n",
    "        for b,ns in enumerate(zz[\"node_separation\"]):\n",
    "            end_idx = ns\n",
    "            aggregated[b].append(outputs[-1][start_idx:end_idx])\n",
    "            start_idx = end_idx\n",
    "        aggregated = torch.squeeze(torch.stack([torch.stack(x) for x in aggregated])).numpy()\n",
    "        nodeinfo.append(aggregated)\n",
    "        nodeops = zz[\"node_ops\"][:aggregated.shape[1]]\n",
    "        nodeops_indo.append(nodeops)\n",
    "hook.remove()\n"
   ]
  },
  {
   "cell_type": "code",
   "execution_count": null,
   "metadata": {},
   "outputs": [],
   "source": [
    "node_opcodes = []\n",
    "all_opcodes = []\n",
    "for idx in tqdm(range(len(nodeinfo))):\n",
    "    node_opcodes.extend(nodeops_indo[idx][nodeinfo[idx].std(0)>0.001].numpy())\n",
    "    all_opcodes.extend(nodeops_indo[idx].numpy())"
   ]
  },
  {
   "cell_type": "code",
   "execution_count": null,
   "metadata": {},
   "outputs": [],
   "source": [
    "opcodes_name = list(opcodes.values())\n",
    "\n",
    "# Calculate unique opcodes and their counts for active nodes\n",
    "unique_opcodes_active, counts_active = np.unique(node_opcodes, return_counts=True)\n",
    "\n",
    "# Calculate unique opcodes and their counts for all nodes\n",
    "unique_opcodes, counts_all = np.unique([a for a in all_opcodes if a in unique_opcodes_active], return_counts=True)\n",
    "\n",
    "# Ensure we have counts for all opcodes even if they don't appear in the node_opcodes\n",
    "counts_all_aligned = np.zeros_like(counts_active)\n",
    "for i, opcode in enumerate(unique_opcodes_active):\n",
    "    if opcode in unique_opcodes:\n",
    "        counts_all_aligned[i] = counts_all[np.where(unique_opcodes == opcode)]\n",
    "\n",
    "# Plotting\n",
    "plt.figure(figsize=(10, 5))\n",
    "\n",
    "# Define the bar width\n",
    "bar_width = 0.35\n",
    "\n",
    "# Set the positions of the bars\n",
    "indices = np.arange(len(unique_opcodes_active))\n",
    "plt.bar(indices, counts_active, bar_width, label='Most active nodes', color='skyblue')\n",
    "plt.bar(indices + bar_width, counts_all_aligned, bar_width, label='All nodes', color='orange')\n",
    "\n",
    "# Adding labels and title\n",
    "plt.xlabel('Opcodes')\n",
    "plt.ylabel('Counts')\n",
    "plt.title('Opcode Frequency Comparison')\n",
    "\n",
    "# Adding the legend\n",
    "plt.legend()\n",
    "\n",
    "# Setting the xticks to be in the middle of the two bars\n",
    "plt.xticks(indices + bar_width / 2, [opcodes_name[i] for i in unique_opcodes_active])\n",
    "\n",
    "# Rotate the x-axis labels if needed\n",
    "plt.xticks(rotation=90)\n",
    "\n",
    "# Show the plot\n",
    "plt.show()\n"
   ]
  },
  {
   "cell_type": "code",
   "execution_count": null,
   "metadata": {},
   "outputs": [],
   "source": []
  }
 ],
 "metadata": {
  "kernelspec": {
   "display_name": "Python 3",
   "language": "python",
   "name": "python3"
  },
  "language_info": {
   "codemirror_mode": {
    "name": "ipython",
    "version": 3
   },
   "file_extension": ".py",
   "mimetype": "text/x-python",
   "name": "python",
   "nbconvert_exporter": "python",
   "pygments_lexer": "ipython3",
   "version": "3.8.10"
  },
  "orig_nbformat": 4
 },
 "nbformat": 4,
 "nbformat_minor": 2
}
