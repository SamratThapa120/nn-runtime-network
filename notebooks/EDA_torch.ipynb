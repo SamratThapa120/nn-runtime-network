{
 "cells": [
  {
   "cell_type": "code",
   "execution_count": null,
   "metadata": {},
   "outputs": [],
   "source": [
    "import torch\n",
    "import matplotlib.pyplot as plt\n",
    "import plotly.express as px\n",
    "import sys\n",
    "import glob\n",
    "import json\n",
    "import numpy as np\n",
    "from tqdm import tqdm\n",
    "sys.path.append(\"../\")"
   ]
  },
  {
   "cell_type": "code",
   "execution_count": null,
   "metadata": {},
   "outputs": [],
   "source": [
    "import glob\n",
    "import os\n",
    "import pandas as pd\n",
    "\n",
    "def get_npy_files(root_path):\n",
    "    # Use a glob pattern to match all .npz files in the directory and subdirectories\n",
    "    pattern = os.path.join(root_path, '**', '*.npz')\n",
    "    npy_files = glob.glob(pattern, recursive=True)\n",
    "    return npy_files\n",
    "\n",
    "all_npy_files = get_npy_files(\"/app/dataset/npz_all/npz/layout\")+get_npy_files(\"/app/dataset/npz_all/npz/tile/xla\")\n",
    "print(len(all_npy_files))\n",
    "# Create a DataFrame from the list of npy files\n",
    "df = pd.DataFrame(all_npy_files, columns=[\"path\"])\n",
    "print(len(df))\n",
    "def find_split(x):\n",
    "    if \"/train\" in x:\n",
    "        return \"train\"\n",
    "    elif \"/valid\" in x:\n",
    "        return \"valid\"\n",
    "    elif \"/test\" in x:\n",
    "        return \"test\"\n",
    "    return None\n",
    "def find_configtype(x):\n",
    "    if \"/default\" in x:\n",
    "        return \"default\"\n",
    "    elif \"/random\" in x:\n",
    "        return \"random\"\n",
    "    return \"istile\"\n",
    "def find_modeltype(x):\n",
    "    if \"/nlp\" in x:\n",
    "        return \"nlp\"\n",
    "    elif \"/xla\" in x:\n",
    "        return \"xla\"\n",
    "    return None\n",
    "def find_grapthtype(x):\n",
    "    if \"/layout\" in x:\n",
    "        return \"layout\"\n",
    "    elif \"/tile\" in x:\n",
    "        return \"tile\"\n",
    "    return None\n",
    "df[\"split\"] = df.path.apply(lambda x : find_split(x))\n",
    "df[\"config_type\"] = df.path.apply(lambda x : find_configtype(x))\n",
    "df[\"modeltype\"] = df.path.apply(lambda x : find_modeltype(x))\n",
    "df[\"graphtype\"] = df.path.apply(lambda x : find_grapthtype(x))\n",
    "df[\"modelname\"] = df.path.apply(lambda x: x.split(\"/\")[-1])"
   ]
  },
  {
   "attachments": {},
   "cell_type": "markdown",
   "metadata": {},
   "source": [
    "# difference between random and default"
   ]
  },
  {
   "cell_type": "code",
   "execution_count": null,
   "metadata": {},
   "outputs": [],
   "source": [
    "mname = df[(df.modeltype==\"xla\")&(df.graphtype==\"layout\")&(df.split==\"train\")].modelname.sample(1).to_list()[0]\n",
    "pths = df[(df.modeltype==\"xla\")&(df.graphtype==\"layout\")&(df.split==\"train\")&(df.modelname==mname)].path.to_list()\n",
    "conftype = df[(df.modeltype==\"xla\")&(df.graphtype==\"layout\")&(df.split==\"train\")&(df.modelname==mname)].config_type.to_list()\n",
    "if len(pths)==2:\n",
    "    fig, axs = plt.subplots(1, 2,figsize=(10, 5)) # 1 row, 2 columns\n",
    "    fig1, axs1 = plt.subplots(1, 2,figsize=(10, 5)) # 1 row, 2 columns\n",
    "    for i,(p,ct) in enumerate(zip(pths,conftype)):\n",
    "        info = dict(np.load(p))\n",
    "\n",
    "        x = np.arange(len(info[\"config_runtime\"]))\n",
    "        y = info[\"config_runtime\"]\n",
    "        axs[i].scatter(x,y)\n",
    "        axs[i].set_title(f\"runtime scatter :{ct}:{mname}\")\n",
    "        # Second plot\n",
    "        axs1[i].hist(y,bins=30)\n",
    "        axs1[i].set_title(f\"runtime hist :{ct}:{mname}\")\n",
    "\n",
    "    plt.tight_layout() # Adjust the layout so the plots are nicely fit\n",
    "    plt.show\n"
   ]
  },
  {
   "cell_type": "code",
   "execution_count": null,
   "metadata": {},
   "outputs": [],
   "source": [
    "opcodes = json.load(open(\"/app/nn-runtime-network/assets/opt_code.json\"))"
   ]
  },
  {
   "cell_type": "code",
   "execution_count": null,
   "metadata": {},
   "outputs": [],
   "source": [
    "files = np.random.choice(glob.glob(\"/app/dataset/various_splits/all_layout/train/*\"),20)\n",
    "# files = glob.glob(\"/app/dataset/various_splits/all_layout/test/*\")\n"
   ]
  },
  {
   "cell_type": "code",
   "execution_count": null,
   "metadata": {},
   "outputs": [],
   "source": [
    "data = []\n",
    "for d in tqdm(files):\n",
    "    data.append(dict(np.load(d)))"
   ]
  },
  {
   "cell_type": "code",
   "execution_count": null,
   "metadata": {},
   "outputs": [],
   "source": [
    "node_feats = np.concatenate([d[\"node_feat\"] for d in data],0)\n",
    "config_feats = np.concatenate([d[\"node_config_feat\"].reshape(-1,18) for d in data],0)"
   ]
  },
  {
   "cell_type": "code",
   "execution_count": null,
   "metadata": {},
   "outputs": [],
   "source": [
    "nodefeat_names = json.load(open(\"/app/nn-runtime-network/assets/node_feature_vector.json\"))\n",
    "for i in tqdm(range(140)):\n",
    "    nodefeat_names[str(i)] = np.unique(node_feats[:,i],axis=0)"
   ]
  },
  {
   "cell_type": "code",
   "execution_count": null,
   "metadata": {},
   "outputs": [],
   "source": [
    "CATEGORICAL = [k for k,v in nodefeat_names.items() if len(v)<5]\n",
    "CONTINUOUS = [k for k,v in nodefeat_names.items() if k not in CATEGORICAL]"
   ]
  },
  {
   "cell_type": "code",
   "execution_count": null,
   "metadata": {},
   "outputs": [],
   "source": [
    "info = nodefeat_names[CONTINUOUS[11]]\n",
    "plt.scatter(np.arange(len(info)),info)"
   ]
  },
  {
   "cell_type": "code",
   "execution_count": null,
   "metadata": {},
   "outputs": [],
   "source": [
    "plt.hist([len(s[\"config_runtime\"]) for s in data],bins=50)\n",
    "plt.title(f\"Histogram of number of configs\")\n",
    "plt.show()"
   ]
  },
  {
   "cell_type": "code",
   "execution_count": null,
   "metadata": {},
   "outputs": [],
   "source": [
    "runtimes = [d[\"config_runtime\"] for d in data]"
   ]
  },
  {
   "cell_type": "code",
   "execution_count": null,
   "metadata": {},
   "outputs": [],
   "source": [
    "# Sample 8 of them\n",
    "sampled_runtimes = np.random.choice(np.arange(len(runtimes)), 8, replace=False)\n",
    "\n",
    "# Create a grid of scatter plots\n",
    "fig, axes = plt.subplots(2, 4, figsize=(15, 10))\n",
    "\n",
    "for ax, runtime in zip(axes.ravel(), sampled_runtimes):\n",
    "    # Assuming runtimes are 1D arrays, we scatter them against their indices\n",
    "    ax.scatter(range(len(runtimes[runtime])), runtimes[runtime])\n",
    "    ax.set_xlabel(\"Index\")\n",
    "    ax.set_ylabel(\"Runtime Value\")\n",
    "\n",
    "plt.tight_layout()\n",
    "plt.show()\n"
   ]
  },
  {
   "cell_type": "code",
   "execution_count": null,
   "metadata": {},
   "outputs": [],
   "source": [
    "nodeops_with_configs = np.concatenate([d[\"node_opcode\"][d[\"node_config_ids\"]] for d in data])"
   ]
  },
  {
   "cell_type": "code",
   "execution_count": null,
   "metadata": {},
   "outputs": [],
   "source": [
    "number_nodes = [d[\"node_opcode\"].shape[0] for d in data]\n"
   ]
  },
  {
   "cell_type": "code",
   "execution_count": null,
   "metadata": {},
   "outputs": [],
   "source": [
    "plt.scatter(np.arange(len(number_nodes)),number_nodes)\n",
    "plt.title(\"Number of nodes in a graph\")"
   ]
  },
  {
   "cell_type": "code",
   "execution_count": null,
   "metadata": {},
   "outputs": [],
   "source": [
    "# Count unique values\n",
    "unique_values, counts = np.unique(nodeops_with_configs, return_counts=True)\n",
    "print([opcodes[str(i)] for i in unique_values],unique_values)\n",
    "# Plot bar plot\n",
    "plt.bar(unique_values, counts)\n",
    "plt.xlabel('Unique Values')\n",
    "plt.ylabel('Counts')\n",
    "plt.title('Which opcodes have configurations values')\n",
    "plt.show()"
   ]
  },
  {
   "cell_type": "code",
   "execution_count": null,
   "metadata": {},
   "outputs": [],
   "source": [
    "unique_values"
   ]
  },
  {
   "cell_type": "code",
   "execution_count": null,
   "metadata": {},
   "outputs": [],
   "source": [
    "# Count unique values\n",
    "unique_values, counts = np.unique(np.concatenate([d[\"node_opcode\"] for d in data]), return_counts=True)\n",
    "print(len(unique_values),[opcodes[str(i)] for i in unique_values],unique_values)\n",
    "# Plot bar plot\n",
    "plt.bar(unique_values, counts)\n",
    "plt.xlabel('Unique Values')\n",
    "plt.ylabel('Counts')\n",
    "plt.title('Which opcodes have configurations values')\n",
    "plt.show()"
   ]
  },
  {
   "cell_type": "code",
   "execution_count": null,
   "metadata": {},
   "outputs": [],
   "source": [
    "import networkx as nx\n",
    "import numpy as np\n",
    "\n",
    "def graph_stats(edges_array):\n",
    "    # Create a directed graph from the edges array\n",
    "    G = nx.from_edgelist(edges_array, create_using=nx.DiGraph())\n",
    "    \n",
    "    # Calculate maximum in-degree\n",
    "    in_degrees = dict(G.in_degree())\n",
    "    max_in_degree = max(in_degrees.values()) if in_degrees else 0\n",
    "    average_in_degree = np.mean(list(in_degrees.values())) if in_degrees else 0\n",
    "    median_in_degree = np.median(list(in_degrees.values())) if in_degrees else 0\n",
    "\n",
    "\n",
    "    # Calculate maximum out-degree\n",
    "    out_degrees = dict(G.out_degree())\n",
    "    max_out_degree = max(out_degrees.values()) if out_degrees else 0\n",
    "    average_out_degree = np.mean(list(out_degrees.values())) if in_degrees else 0\n",
    "    median_out_degree = np.median(list(out_degrees.values())) if in_degrees else 0\n",
    "\n",
    "    # Calculate number of strongly connected components\n",
    "    G = nx.from_edgelist(edges_array, create_using=nx.Graph())\n",
    "    # (For directed graphs, we should consider strongly connected components)\n",
    "    num_connected_components = len(list(nx.connected_components(G)))\n",
    "\n",
    "    return {\n",
    "        \"max_in_degree\": max_in_degree,\n",
    "        \"max_out_degree\": max_out_degree,\n",
    "        \"average_in_degree\": average_in_degree,\n",
    "        \"average_out_degree\": average_out_degree,\n",
    "        \"median_in_degree\": median_in_degree,\n",
    "        \"median_out_degree\": median_out_degree,\n",
    "        \"num_connected_components\": num_connected_components\n",
    "    }"
   ]
  },
  {
   "cell_type": "code",
   "execution_count": null,
   "metadata": {},
   "outputs": [],
   "source": [
    "stats = [graph_stats(d[\"edge_index\"]) for d in tqdm(data)] "
   ]
  },
  {
   "cell_type": "code",
   "execution_count": null,
   "metadata": {},
   "outputs": [],
   "source": [
    "for k in stats[0]:\n",
    "    plt.hist([s[k] for s in stats],bins=50)\n",
    "    plt.title(f\"Histogram of {k}\")\n",
    "    plt.show()"
   ]
  },
  {
   "cell_type": "code",
   "execution_count": null,
   "metadata": {},
   "outputs": [],
   "source": [
    "import networkx as nx\n",
    "import numpy as np\n",
    "\n",
    "def connected_nodes_count(edges_array, sample_nodes_array,successor=False):\n",
    "    # Create a directed graph from the edges array\n",
    "    G = nx.from_edgelist(edges_array, create_using=nx.DiGraph())\n",
    "    \n",
    "    connected_nodes = set()\n",
    "    \n",
    "    for node in sample_nodes_array:\n",
    "        # Add predecessors (incoming edges)\n",
    "        connected_nodes.add(node.item())\n",
    "        connected_nodes.update(G.predecessors(node))\n",
    "        # Add successors (outgoing edges)\n",
    "        if successor:\n",
    "            connected_nodes.update(G.successors(node))\n",
    "\n",
    "    # Remove sample nodes from the count, as we only want nodes connected to them\n",
    "    # connected_nodes = connected_nodes - set(sample_nodes_array)\n",
    "\n",
    "    return len(connected_nodes)\n",
    "\n",
    "predecessor_nodes_ratio = [connected_nodes_count(d[\"edge_index\"],d[\"node_config_ids\"])/len(d[\"node_opcode\"]) for d in tqdm(data)] \n",
    "direct_nodes_ratio = [connected_nodes_count(d[\"edge_index\"],d[\"node_config_ids\"],successor=True)/len(d[\"node_opcode\"]) for d in tqdm(data)] \n"
   ]
  },
  {
   "cell_type": "code",
   "execution_count": null,
   "metadata": {},
   "outputs": [],
   "source": [
    "plt.hist(predecessor_nodes_ratio,bins=50)\n",
    "plt.title(\"Histogram of ratio of predeceesors connected directly to config nodes\")\n",
    "plt.show()\n",
    "\n",
    "\n",
    "plt.hist(direct_nodes_ratio,bins=50)\n",
    "plt.title(\"Histogram of ratio of nodes connected directly to config nodes\")\n",
    "plt.show()"
   ]
  }
 ],
 "metadata": {
  "kernelspec": {
   "display_name": "Python 3",
   "language": "python",
   "name": "python3"
  },
  "language_info": {
   "codemirror_mode": {
    "name": "ipython",
    "version": 3
   },
   "file_extension": ".py",
   "mimetype": "text/x-python",
   "name": "python",
   "nbconvert_exporter": "python",
   "pygments_lexer": "ipython3",
   "version": "3.8.10"
  },
  "orig_nbformat": 4
 },
 "nbformat": 4,
 "nbformat_minor": 2
}
